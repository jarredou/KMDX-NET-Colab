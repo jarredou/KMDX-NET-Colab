{
  "cells": [
    {
      "attachments": {},
      "cell_type": "markdown",
      "metadata": {
        "id": "NTgXXjPS-qwv"
      },
      "source": [
        "#KMDX-NET-Colab\n",
        "###Colab adaptation of Kimberley Jensen's submission to the AIcrowd Music Demixing Challenge (MDX23).\n",
        "\n",
        "Source: https://github.com/KimberleyJensen/kmdx-net_music-source-separation\n",
        "\n",
        "Colab repo : https://github.dev/jarredou/KMDX-NET-Colab\n",
        "\n"
      ]
    },
    {
      "cell_type": "code",
      "execution_count": null,
      "metadata": {
        "cellView": "form",
        "id": "U3A0nRFiJjrx"
      },
      "outputs": [],
      "source": [
        "#@markdown #Connect to Google Drive\n",
        "from google.colab import drive\n",
        "drive.mount('/content/drive')"
      ]
    },
    {
      "cell_type": "code",
      "execution_count": 5,
      "metadata": {
        "cellView": "form",
        "id": "8KcqhAF3HZlR"
      },
      "outputs": [],
      "source": [
        "#@markdown #Installation\n",
        "#@markdown Mount your GDrive before running this cell !\n",
        "%%capture\n",
        "!mkdir /content/drive/MyDrive/KMDX/\n",
        "%cd /content/drive/MyDrive/KMDX/\n",
        "!git clone https://github.dev/jarredou/KMDX-NET-Colab.git .\n",
        "!apt install libsndfile-dev\n",
        "!pip -q install numpy soundfile museval mir_eval demucs==4.0.0 \n",
        "!pip -q install torchaudio==0.11.0 onnxruntime-gpu==1.12.0\n",
        "#!pip install torch==1.13.1"
      ]
    },
    {
      "cell_type": "markdown",
      "metadata": {
        "id": "xQx-_lVGH_re"
      },
      "source": [
        "#Download models\n",
        "\n",
        "Download (manually) the models provided by Kimberley https://drive.google.com/drive/folders/1ugGoKCsnRdeFjez89o4Ut_bf6wUv85wy?usp=sharing\n",
        "\n",
        "Place them accordingly (follow readme files in zip) in:\n",
        "/content/drive/MyDrive/KMDX/KMDX/model_weights/"
      ]
    },
    {
      "cell_type": "markdown",
      "metadata": {
        "id": "c7MaxlRGKBFu"
      },
      "source": [
        "#INFERENCE"
      ]
    },
    {
      "cell_type": "code",
      "execution_count": null,
      "metadata": {
        "cellView": "form",
        "id": "zl5IeeayPL8g"
      },
      "outputs": [],
      "source": [
        "%cd /content/drive/MyDrive/KMDX/\n",
        "#@markdown Path to track:\n",
        "input = \"/content/drive/MyDrive/audio_file.wav\" #@param {type:\"string\"}\n",
        "output_folder = \"/content/drive/MyDrive/KMDX/separated/\" #@param {type:\"string\"}\n",
        "\n",
        "\n",
        "\n",
        "#NOT IMPLEMENTED YET !\n",
        "##@markdown ---\n",
        "##@markdown <br>\n",
        "##@markdown <del><font size=2> Enable Demucs 'shifts trick', default is off<font size=4> **(EXTREMLY SLOW here !)**</del><br>\n",
        "#shifts = 5 #@param {type:\"slider\", min:0, max:10, step:1}\n",
        "\n",
        "\n",
        "#run\n",
        "!python main.py --input \"{input}\""
      ]
    }
  ],
  "metadata": {
    "accelerator": "GPU",
    "colab": {
      "gpuType": "T4",
      "provenance": []
    },
    "gpuClass": "standard",
    "kernelspec": {
      "display_name": "Python 3",
      "name": "python3"
    },
    "language_info": {
      "name": "python"
    }
  },
  "nbformat": 4,
  "nbformat_minor": 0
}
